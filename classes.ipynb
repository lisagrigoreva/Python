{
 "cells": [
  {
   "cell_type": "code",
   "execution_count": 1,
   "metadata": {},
   "outputs": [
    {
     "name": "stdout",
     "output_type": "stream",
     "text": [
      "(1, 2)\n",
      "(3, 4)\n"
     ]
    }
   ],
   "source": [
    "class myFunction:\n",
    "    def __init__(self, lis):\n",
    "        self.list = lis\n",
    "        self.counter = 0\n",
    "    def __next__(self):\n",
    "        if self.counter < len(self.list):\n",
    "            self.counter += 2\n",
    "            return self.list[self.counter - 2], self.list[self.counter - 1]\n",
    "        else:\n",
    "            raise StopIteration\n",
    "            \n",
    "class MyList(list):\n",
    "    def __iter__(self):\n",
    "        return myFunction(self)\n",
    "\n",
    "if __name__ == '__main__' :            \n",
    "    for pair in MyList([1,2,3,4]):\n",
    "        print(pair)"
   ]
  },
  {
   "cell_type": "code",
   "execution_count": null,
   "metadata": {},
   "outputs": [],
   "source": []
  }
 ],
 "metadata": {
  "kernelspec": {
   "display_name": "Python 3",
   "language": "python",
   "name": "python3"
  },
  "language_info": {
   "codemirror_mode": {
    "name": "ipython",
    "version": 3
   },
   "file_extension": ".py",
   "mimetype": "text/x-python",
   "name": "python",
   "nbconvert_exporter": "python",
   "pygments_lexer": "ipython3",
   "version": "3.7.7"
  }
 },
 "nbformat": 4,
 "nbformat_minor": 4
}
