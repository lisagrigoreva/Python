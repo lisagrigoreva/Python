{
 "cells": [
  {
   "cell_type": "code",
   "execution_count": 25,
   "metadata": {},
   "outputs": [
    {
     "name": "stdout",
     "output_type": "stream",
     "text": [
      "WMQS\n"
     ]
    }
   ],
   "source": [
    "#Create dictionary with masses \n",
    "mass_dict= {\n",
    "    'A': 71.03711,\n",
    "    'C': 103.00919,\n",
    "    'D': 115.02694,\n",
    "    'E': 129.04259,\n",
    "    'F': 147.06841,\n",
    "    'G': 57.02146,\n",
    "    'H': 137.05891,\n",
    "    'I': 113.08406,\n",
    "    'K': 128.09496,\n",
    "    'L': 113.08406,\n",
    "    'M': 131.04049,\n",
    "    'N': 114.04293,\n",
    "    'P': 97.05276,\n",
    "    'Q': 128.05858,\n",
    "    'R': 156.10111,\n",
    "    'S': 87.03203,\n",
    "    'T': 101.04768,\n",
    "    'V': 99.06841,\n",
    "    'W': 186.07931,\n",
    "    'Y': 163.06333,\n",
    "}\n",
    "\n",
    "#Open and res dataset from Rosalind\n",
    "with open('mass_ros.txt') as input_data:\n",
    "    dataset = [float(line.strip()) for line in input_data.readlines()]\n",
    "\n",
    "#Create new dictionary for masses with prefix spectrum -1 (round values for 4 dec. point)\n",
    "dict_masses = []\n",
    "for i in range(len(dataset ) - 1):\n",
    "    updated_dict = round(dataset [i + 1] - dataset[i], 4)\n",
    "    dict_masses.append(updated_dict)\n",
    "    \n",
    "#Write rounded data in new list and than return protein. Protein contain mass of aminoacids\n",
    "rounded_data  = {}\n",
    "for key, value in mass_dict.items():\n",
    "    rounded_data[round(value, 4)] = key\n",
    "\n",
    "protein = ''\n",
    "for i in dict_masses:\n",
    "    protein += rounded_data[i]\n",
    "    \n",
    "print(protein)"
   ]
  },
  {
   "cell_type": "code",
   "execution_count": null,
   "metadata": {},
   "outputs": [],
   "source": []
  },
  {
   "cell_type": "code",
   "execution_count": null,
   "metadata": {},
   "outputs": [],
   "source": []
  }
 ],
 "metadata": {
  "kernelspec": {
   "display_name": "Python 3",
   "language": "python",
   "name": "python3"
  },
  "language_info": {
   "codemirror_mode": {
    "name": "ipython",
    "version": 3
   },
   "file_extension": ".py",
   "mimetype": "text/x-python",
   "name": "python",
   "nbconvert_exporter": "python",
   "pygments_lexer": "ipython3",
   "version": "3.7.4"
  }
 },
 "nbformat": 4,
 "nbformat_minor": 2
}
